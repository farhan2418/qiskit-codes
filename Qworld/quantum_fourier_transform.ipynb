{
 "cells": [
  {
   "cell_type": "code",
   "execution_count": 6,
   "metadata": {},
   "outputs": [
    {
     "data": {
      "image/png": "[encoded data removed]",
      "text/plain": [
       "<Figure size 1040x284.278 with 1 Axes>"
      ]
     },
     "execution_count": 6,
     "metadata": {},
     "output_type": "execute_result"
    }
   ],
   "source": [
    "from qiskit import QuantumCircuit\n",
    "import numpy as np\n",
    "from qiskit.circuit.library import SwapGate\n",
    "from qiskit.visualization import plot_bloch_multivector\n",
    "from qiskit.quantum_info import Statevector\n",
    "\n",
    "pi = np.pi\n",
    "\n",
    "def qft(state, n):\n",
    "    qc = QuantumCircuit(n)\n",
    "    for i, s  in enumerate(state):\n",
    "        if s == '1':\n",
    "            qc.x(i)\n",
    "    for i in range(n):\n",
    "        qc.h(i) # apply hadamard gate\n",
    "        # first fix how many times the contolled phase gate should be applied on each qubit\n",
    "        iterations =range((n-1) -i)\n",
    "        for j in iterations:\n",
    "            # the angle is always fixed for every iterations. rotations with k = 2^2, 2^3\n",
    "            rotation = 2*pi / (2** (j+2))\n",
    "            # the control qubit is always the (j`+i)th qubit for kth iterations for each i qubit, j` = j+1\n",
    "            control = (j+1) + i\n",
    "            qc.cp(rotation, control, i)\n",
    "            # j+=1\n",
    "    for k in range(n//2):\n",
    "        qc.swap(k, n-1 - k)\n",
    "    return qc\n",
    "n = int(input('Number of qubits: '))\n",
    "initial_state = input(f'initial state for the {n} qubit sys: ')\n",
    "\n",
    "qc = qft(initial_state, n)\n",
    "qc.draw('mpl')\n",
    "\n"
   ]
  },
  {
   "cell_type": "code",
   "execution_count": 7,
   "metadata": {},
   "outputs": [
    {
     "data": {
      "text/latex": [
       "$$\\frac{\\sqrt{2}}{4} |000\\rangle- \\frac{\\sqrt{2}}{4} |001\\rangle- \\frac{\\sqrt{2} i}{4} |010\\rangle+\\frac{\\sqrt{2} i}{4} |011\\rangle+(\\frac{1}{4} - \\frac{i}{4}) |100\\rangle+(- \\frac{1}{4} + \\frac{i}{4}) |101\\rangle+(- \\frac{1}{4} - \\frac{i}{4}) |110\\rangle+(\\frac{1}{4} + \\frac{i}{4}) |111\\rangle$$"
      ],
      "text/plain": [
       "<IPython.core.display.Latex object>"
      ]
     },
     "execution_count": 7,
     "metadata": {},
     "output_type": "execute_result"
    }
   ],
   "source": [
    "state = Statevector(qc)\n",
    "plot_bloch_multivector(state)\n",
    "\n",
    "state.draw('latex')"
   ]
  }
 ],
 "metadata": {
  "kernelspec": {
   "display_name": "qvenv",
   "language": "python",
   "name": "python3"
  },
  "language_info": {
   "codemirror_mode": {
    "name": "ipython",
    "version": 3
   },
   "file_extension": ".py",
   "mimetype": "text/x-python",
   "name": "python",
   "nbconvert_exporter": "python",
   "pygments_lexer": "ipython3",
   "version": "3.12.5"
  }
 },
 "nbformat": 4,
 "nbformat_minor": 2
}
