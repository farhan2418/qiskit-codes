{
 "cells": [
  {
   "cell_type": "markdown",
   "id": "6ee794a9",
   "metadata": {},
   "source": [
    "### Iterative Quantum Amplitude Estimation"
   ]
  },
  {
   "cell_type": "code",
   "execution_count": 11,
   "id": "9abc4e2c",
   "metadata": {},
   "outputs": [],
   "source": [
    "import numpy as np\n",
    "\n",
    "def find_next_k(k_previous, l, u, up_previous, r =2):\n",
    "    K_current = 4* k_previous + 2\n",
    "    theta_min = K_current * l\n",
    "    theta_max = K_current * u\n",
    "    K_max = np.floor(np.pi / (u - l))\n",
    "    K = K_max - (K_max -2 ) % 4\n",
    "\n",
    "    while K > r* K_current:\n",
    "        q = K/K_current\n",
    "        if ((q* theta_max) % 2*np.pi) <= np.pi and ((q * theta_min) % 2*np.pi) <= np.pi:\n",
    "            K_next = K\n",
    "            up_next = True\n",
    "            k_next = (K_next - 2) / 4\n",
    "            return (k_next, up_next)\n",
    "        if ((q* theta_max) % 2*np.pi) >= np.pi and ((q * theta_min) % 2*np.pi) >= np.pi:\n",
    "            K_next = K\n",
    "            up_next = False\n",
    "            k_next = (K_next - 2) / 4\n",
    "            return (k_next, up_next)\n",
    "        K = K - 4\n",
    "    return (k_previous, up_previous)\n",
    "\n",
    "\n",
    "def iqae(epsilon, alpha, Nshots: int, ci = \"Chernoff Hoeffding\"):\n",
    "    def cal_lmax(N_shots, alpha, T):\n",
    "        return np.arcsin(2/N_shots*np.log(2*T/alpha)) ** (1/4)\n",
    "    i = 0\n",
    "    k_current = 0\n",
    "    up_current = True\n",
    "    [ltheta, utheta] = [0, np.pi/2]\n",
    "    T = np.ceil(np.log2(np.pi/(8*epsilon)))\n",
    "    L_max = cal_lmax(Nshots, alpha, T)\n",
    "\n",
    "    while utheta - ltheta > 2*epsilon:\n",
    "        i += 1\n",
    "        k_previous = k_current\n",
    "        up_previous = up_current\n",
    "        k_current, up_current = find_next_k(k_previous, ltheta, utheta, up_previous)\n",
    "        K_current = 4 * k_current + 2\n",
    "        if K_current > np.ceil(L_max / epsilon):\n",
    "            N = np.ceil(Nshots * L_max / epsilon / K_current / 10)\n",
    "        else:\n",
    "            N = Nshots\n",
    "\n",
    "        # apply grover oraacle k_current times and measuring N times and get the value of a\n",
    "        a = 0\n",
    "\n",
    "        if k_current == k_previous:\n",
    "            # calculate the results of all the iterations j<= i\n",
    "            # with kj = ki into a single results\\\n",
    "            k_final = k_current\n",
    "        \n",
    "        if ci == \"Chernoff Hoeffding\":\n",
    "            epsilon_hw = np.sqrt(1/2*N * np.log(2*T/alpha))\n",
    "            a_max = np.min(1, a + epsilon_hw)\n",
    "            a_min = np.max(0, a - epsilon_hw)\n",
    "\n",
    "        theta_min = np.arcos(1 - 2*a_min) / K_current\n",
    "        theta_max = np.arcos(1 - 2*a_max) / K_current\n",
    "\n",
    "        ltheta = (np.floor(K_current * ltheta) % 2*np.pi + theta_min) / K_current\n",
    "        utheta = (np.floor(K_current * utheta) % 2*np.pi + theta_max) / K_current\n",
    "    [a_l, a_u] = [np.sin(ltheta) ** 2, np.sin(utheta) **2 ]\n",
    "    return [a_l, a_u]\n",
    "\n"
   ]
  },
  {
   "cell_type": "code",
   "execution_count": null,
   "id": "914bd0f2",
   "metadata": {},
   "outputs": [],
   "source": []
  }
 ],
 "metadata": {
  "kernelspec": {
   "display_name": "qvenv",
   "language": "python",
   "name": "python3"
  },
  "language_info": {
   "codemirror_mode": {
    "name": "ipython",
    "version": 3
   },
   "file_extension": ".py",
   "mimetype": "text/x-python",
   "name": "python",
   "nbconvert_exporter": "python",
   "pygments_lexer": "ipython3",
   "version": "3.12.5"
  }
 },
 "nbformat": 4,
 "nbformat_minor": 5
}
