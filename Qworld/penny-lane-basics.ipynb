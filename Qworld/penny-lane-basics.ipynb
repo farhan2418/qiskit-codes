{
 "cells": [
  {
   "cell_type": "code",
   "execution_count": 1,
   "id": "fe46c7b3",
   "metadata": {},
   "outputs": [],
   "source": [
    "import pennylane as qml\n",
    "import numpy as np\n",
    "import matplotlib.pyplot as plt"
   ]
  },
  {
   "cell_type": "code",
   "execution_count": 2,
   "id": "cdbd54f7",
   "metadata": {},
   "outputs": [
    {
     "data": {
      "text/plain": [
       "(<Figure size 500x300 with 1 Axes>, <Axes: >)"
      ]
     },
     "execution_count": 2,
     "metadata": {},
     "output_type": "execute_result"
    },
    {
     "data": {
      "image/png": "[encoded data removed]",
      "text/plain": [
       "<Figure size 500x300 with 1 Axes>"
      ]
     },
     "metadata": {},
     "output_type": "display_data"
    }
   ],
   "source": [
    "\n",
    "dev = qml.device('default.qubit', wires = 2)\n",
    "\n",
    "@qml.qnode(dev)\n",
    "def circuit():\n",
    "    qml.Hadamard(wires=[0])\n",
    "    qml.CNOT(wires=[0,1])\n",
    "    return qml.probs()\n",
    "\n",
    "qml.draw_mpl(circuit, style ='pennylane')()"
   ]
  },
  {
   "cell_type": "code",
   "execution_count": 3,
   "id": "1dfbcb64",
   "metadata": {},
   "outputs": [
    {
     "name": "stdout",
     "output_type": "stream",
     "text": [
      "717 μs ± 52.1 μs per loop (mean ± std. dev. of 7 runs, 1,000 loops each)\n"
     ]
    }
   ],
   "source": [
    "%%timeit\n",
    "circuit()"
   ]
  },
  {
   "cell_type": "code",
   "execution_count": 4,
   "id": "a603ab28",
   "metadata": {},
   "outputs": [],
   "source": [
    "dev = qml.device('lightning.qubit', wires =2)\n",
    "\n",
    "@qml.qnode(dev)\n",
    "def circuit():\n",
    "    qml.Hadamard(wires=[0])\n",
    "    qml.CNOT(wires=[0,1])\n",
    "    return qml.probs()\n",
    "\n"
   ]
  },
  {
   "cell_type": "code",
   "execution_count": 5,
   "id": "17e91308",
   "metadata": {},
   "outputs": [
    {
     "name": "stdout",
     "output_type": "stream",
     "text": [
      "3.02 ms ± 242 μs per loop (mean ± std. dev. of 7 runs, 100 loops each)\n"
     ]
    }
   ],
   "source": [
    "%%timeit\n",
    "circuit()"
   ]
  },
  {
   "cell_type": "code",
   "execution_count": 6,
   "id": "20d91096",
   "metadata": {},
   "outputs": [],
   "source": [
    "dev = qml.device('lightning.qubit', wires =2, shots = 100)\n",
    "\n",
    "@qml.qnode(dev)\n",
    "def circuit():\n",
    "    qml.Hadamard(wires=[0])\n",
    "    qml.CNOT(wires=[0,1])\n",
    "    return qml.probs()\n",
    "\n"
   ]
  },
  {
   "cell_type": "code",
   "execution_count": 7,
   "id": "b41259eb",
   "metadata": {},
   "outputs": [
    {
     "data": {
      "text/plain": [
       "array([0.45, 0.  , 0.  , 0.55])"
      ]
     },
     "execution_count": 7,
     "metadata": {},
     "output_type": "execute_result"
    }
   ],
   "source": [
    "circuit()\n"
   ]
  },
  {
   "cell_type": "markdown",
   "id": "94da20fb",
   "metadata": {},
   "source": [
    "### lienar Combination of Unitaries and block encoding"
   ]
  },
  {
   "cell_type": "code",
   "execution_count": 8,
   "id": "e38909cf",
   "metadata": {},
   "outputs": [
    {
     "name": "stdout",
     "output_type": "stream",
     "text": [
      "[[0.5       0.8660254]\n",
      " [0.8660254 0.5      ]]\n"
     ]
    }
   ],
   "source": [
    "W = 1/2*np.array([[1, np.sqrt(3)],[np.sqrt(3), 1]])\n",
    "print(W)\n",
    "\n",
    "\n"
   ]
  },
  {
   "cell_type": "code",
   "execution_count": 9,
   "id": "8be4d86c",
   "metadata": {},
   "outputs": [
    {
     "name": "stdout",
     "output_type": "stream",
     "text": [
      "LCU decomposition:\n",
      "0.5 * I(0) + 0.8660254037844386 * X(0)\n",
      "Coefficients:\n",
      "[0.5       0.8660254]\n",
      "Unitaries:\n",
      "[I(0), X(0)]\n"
     ]
    }
   ],
   "source": [
    "LCU = qml.pauli_decompose(W)\n",
    "LCU_coefs, LCU_ops = LCU.terms()\n",
    "print(f\"LCU decomposition:\\n{LCU}\")\n",
    "print(f\"Coefficients:\\n{LCU_coefs}\")\n",
    "print(f\"Unitaries:\\n{LCU_ops}\")\n",
    "eye = LCU_ops[0]\n",
    "# print(eye.matrix())\n",
    "\n"
   ]
  },
  {
   "cell_type": "code",
   "execution_count": 10,
   "id": "2d449cfc",
   "metadata": {},
   "outputs": [
    {
     "name": "stdout",
     "output_type": "stream",
     "text": [
      "[QubitUnitary(array([[ 0.70710678,  0.70710678],\n",
      "       [ 0.70710678, -0.70710678]]), wires=[1]), QubitUnitary(array([[ 1,  0],\n",
      "       [ 0, -1]]), wires=[1])]\n",
      "target states [0.5       0.8660254]\n",
      "output state [0.5       0.8660254]\n"
     ]
    }
   ],
   "source": [
    "U = [[ 0.70710678,  0.70710678], \n",
    "[ 0.70710678, -0.70710678]]\n",
    "\n",
    "V = [[1, 0], [0, -1]]\n",
    "ops = [qml.QubitUnitary(U, wires=1), qml.QubitUnitary(V, wires=1)]\n",
    "\n",
    "coeffs = [1, 3]\n",
    "\n",
    "dev1 = qml.device('default.qubit', wires = 1)\n",
    "alphas = (np.sqrt(coeffs) / np.linalg.norm(np.sqrt(coeffs)))\n",
    "\n",
    "@qml.qnode(dev1)\n",
    "def prep_circuit():\n",
    "    qml.StatePrep(alphas, wires=0)\n",
    "    return qml.state()\n",
    "print(ops)\n",
    "print('target states', alphas)\n",
    "print('output state', np.real(prep_circuit()))\n"
   ]
  },
  {
   "cell_type": "code",
   "execution_count": 11,
   "id": "352c4896",
   "metadata": {},
   "outputs": [
    {
     "name": "stdout",
     "output_type": "stream",
     "text": [
      "[QubitUnitary(array([[ 0.70710678,  0.70710678],\n",
      "       [ 0.70710678, -0.70710678]]), wires=[1]), QubitUnitary(array([[ 1,  0],\n",
      "       [ 0, -1]]), wires=[1])]\n",
      "1.0\n"
     ]
    }
   ],
   "source": [
    "dev2 = qml.device(\"default.qubit\", wires = 3)\n",
    "unitaries = [qml.map_wires(op, {0:1}) for op in ops]\n",
    "print(unitaries)\n",
    "@qml.qnode(dev2)\n",
    "def sel_circuit(qubit_value):\n",
    "    qml.BasisState(qubit_value, wires=0)\n",
    "    qml.Select(unitaries, control=0)\n",
    "    return qml.expval(qml.PauliZ(1))\n",
    "\n",
    "print(sel_circuit([1]))\n"
   ]
  },
  {
   "cell_type": "code",
   "execution_count": 12,
   "id": "f3cc9265",
   "metadata": {},
   "outputs": [
    {
     "data": {
      "image/png": "[encoded data removed]",
      "text/plain": [
       "<Figure size 500x300 with 1 Axes>"
      ]
     },
     "metadata": {},
     "output_type": "display_data"
    }
   ],
   "source": [
    "qml.draw_mpl(sel_circuit, style='pennylane')([0])\n",
    "plt.show()"
   ]
  },
  {
   "cell_type": "code",
   "execution_count": 13,
   "id": "c309475b",
   "metadata": {},
   "outputs": [
    {
     "name": "stdout",
     "output_type": "stream",
     "text": [
      "[[ 0.9267767  0.         0.1767767  0.         0.1268265  0.\n",
      "  -0.3061862  0.       ]\n",
      " [ 0.         0.9267767  0.         0.1767767  0.         0.1268265\n",
      "   0.        -0.3061862]\n",
      " [ 0.1767767  0.        -0.9267767  0.        -0.3061862  0.\n",
      "  -0.1268265  0.       ]\n",
      " [ 0.         0.1767767  0.        -0.9267767  0.        -0.3061862\n",
      "   0.        -0.1268265]\n",
      " [ 0.1268265  0.        -0.3061862  0.         0.7803301  0.\n",
      "   0.5303301  0.       ]\n",
      " [ 0.         0.1268265  0.        -0.3061862  0.         0.7803301\n",
      "   0.         0.5303301]\n",
      " [-0.3061862  0.        -0.1268265  0.         0.5303301  0.\n",
      "  -0.7803301  0.       ]\n",
      " [ 0.        -0.3061862  0.        -0.1268265  0.         0.5303301\n",
      "   0.        -0.7803301]]\n"
     ]
    }
   ],
   "source": [
    "@qml.qnode(dev2)\n",
    "def lcu_circuit():\n",
    "\n",
    "    qml.StatePrep(alphas, wires =0)\n",
    "\n",
    "    qml.Select(unitaries, control=0)\n",
    "    qml.adjoint(qml.StatePrep(alphas, wires = 0))\n",
    "    return qml.state()\n",
    "output_matrix = qml.matrix(lcu_circuit)()\n",
    "print(np.real(np.round(output_matrix,7)))"
   ]
  },
  {
   "cell_type": "markdown",
   "id": "264e34e9",
   "metadata": {},
   "source": [
    "### Challenge question"
   ]
  },
  {
   "cell_type": "code",
   "execution_count": 14,
   "id": "e05d2204",
   "metadata": {},
   "outputs": [
    {
     "name": "stdout",
     "output_type": "stream",
     "text": [
      "The helper W\n",
      "[[ 0.5        0.8660254]\n",
      " [ 0.8660254 -0.5      ]]\n"
     ]
    }
   ],
   "source": [
    "def W(alpha, beta):\n",
    "    norm = np.sqrt(alpha +  beta)\n",
    "    matrix = [[np.sqrt(alpha), np.sqrt(beta)], [np.sqrt(beta), -1*np.sqrt(alpha)]] / norm\n",
    "    return matrix\n",
    "\n",
    "print(f\"The helper W\\n{W(1, 3)}\")"
   ]
  },
  {
   "cell_type": "code",
   "execution_count": 15,
   "id": "888cd41d",
   "metadata": {},
   "outputs": [
    {
     "name": "stdout",
     "output_type": "stream",
     "text": [
      "0.25\n"
     ]
    }
   ],
   "source": [
    "def linear_combination(U, V, alpha, beta):\n",
    "    dev = qml.device(\"default.qubit\", wires =2)\n",
    "\n",
    "    @qml.qnode(dev)\n",
    "    def circuit():\n",
    "        qml.QubitUnitary(W(alpha, beta), wires = 0)\n",
    "\n",
    "        qml.ctrl(qml.QubitUnitary(U, wires =1), control = 0)\n",
    "\n",
    "        qml.PauliX(0)\n",
    "        qml.ctrl(qml.QubitUnitary(V, wires=1), control =0)\n",
    "        qml.PauliX(0)\n",
    "\n",
    "        return qml.probs(wires = 0)\n",
    "    \n",
    "    probs = circuit()\n",
    "    return probs[0]\n",
    "\n",
    "print(linear_combination(U, V, 1, 3))"
   ]
  },
  {
   "cell_type": "code",
   "execution_count": 16,
   "id": "922c6398",
   "metadata": {},
   "outputs": [
    {
     "name": "stdout",
     "output_type": "stream",
     "text": [
      "0.8901650422902461\n",
      "A:\n",
      " [[ 0.5        0.8660254]\n",
      " [ 0.8660254 -0.5      ]] \n",
      "\n",
      "Block-encoded A:\n",
      "\n",
      "[[ 0.93  0.    0.18  0.    0.13  0.   -0.31  0.  ]\n",
      " [ 0.    0.93  0.    0.18  0.    0.13  0.   -0.31]\n",
      " [ 0.18  0.   -0.93  0.   -0.31  0.   -0.13  0.  ]\n",
      " [ 0.    0.18  0.   -0.93  0.   -0.31  0.   -0.13]\n",
      " [ 0.13  0.   -0.31  0.    0.78  0.    0.53  0.  ]\n",
      " [ 0.    0.13  0.   -0.31  0.    0.78  0.    0.53]\n",
      " [-0.31  0.   -0.13  0.    0.53  0.   -0.78  0.  ]\n",
      " [ 0.   -0.31  0.   -0.13  0.    0.53  0.   -0.78]]\n"
     ]
    }
   ],
   "source": [
    "U = [[ 0.70710678,  0.70710678], \n",
    "[ 0.70710678, -0.70710678]]\n",
    "\n",
    "V = [[1, 0], [0, -1]]\n",
    "ops1 = [qml.QubitUnitary(U, wires=1), qml.QubitUnitary(V, wires=1)]\n",
    "unitaries = [qml.map_wires(op, {0:1}) for op in ops1]\n",
    "coeffs = [1, 3]\n",
    "alphas = (np.sqrt(coeffs) / np.linalg.norm(np.sqrt(coeffs)))\n",
    "@qml.qnode(dev2)\n",
    "def lcu_circuit():  # block_encode\n",
    "    # PREP\n",
    "    qml.StatePrep(alphas, wires=0)\n",
    "\n",
    "    # SEL\n",
    "    qml.Select(unitaries, control=0)\n",
    "\n",
    "    # PREP_dagger\n",
    "    qml.adjoint(qml.StatePrep(alphas, wires=0))\n",
    "    \n",
    "    probs = qml.probs(wires = 0)\n",
    "    return probs\n",
    "\n",
    "probs = lcu_circuit()\n",
    "print(probs[0])\n",
    "# output_matrix = \n",
    "print(\"A:\\n\", W(coeffs[0], coeffs[1]), \"\\n\")\n",
    "print(\"Block-encoded A:\\n\")\n",
    "print(np.real(np.round(output_matrix,2)))"
   ]
  },
  {
   "cell_type": "code",
   "execution_count": 17,
   "id": "7f868851",
   "metadata": {},
   "outputs": [
    {
     "name": "stdout",
     "output_type": "stream",
     "text": [
      "[[ 0.5        0.8660254]\n",
      " [ 0.8660254 -0.5      ]]\n",
      "0.8660254037844386 * X(0) + 0.5 * Z(0)\n",
      "0.5\n",
      "[0.5       0.8660254]\n"
     ]
    }
   ],
   "source": [
    "print(W(1, 3))\n",
    "print(qml.pauli_decompose(W(1,3)))\n",
    "print(qml.pauli_decompose(W(1,3)).coeffs[1])\n",
    "coeffs = [1, 3]\n",
    "print(np.sqrt(coeffs) / np.linalg.norm(np.sqrt(coeffs)))"
   ]
  },
  {
   "cell_type": "code",
   "execution_count": 18,
   "id": "df903bec",
   "metadata": {},
   "outputs": [
    {
     "name": "stdout",
     "output_type": "stream",
     "text": [
      "8731735109458378\n"
     ]
    }
   ],
   "source": [
    "print(4365867554729189*2)"
   ]
  },
  {
   "cell_type": "code",
   "execution_count": 290,
   "id": "bb82ee67",
   "metadata": {},
   "outputs": [
    {
     "name": "stdout",
     "output_type": "stream",
     "text": [
      "0.5 * (X(0) @ X(1)) + 0.8 * (Z(0) @ Z(1))\n"
     ]
    },
    {
     "data": {
      "text/plain": [
       "(<Figure size 1100x300 with 1 Axes>, <Axes: >)"
      ]
     },
     "execution_count": 290,
     "metadata": {},
     "output_type": "execute_result"
    },
    {
     "data": {
      "image/png": "[encoded data removed]",
      "text/plain": [
       "<Figure size 1100x300 with 1 Axes>"
      ]
     },
     "metadata": {},
     "output_type": "display_data"
    }
   ],
   "source": [
    "dev = qml.device('default.qubit', wires = 2)\n",
    "\n",
    "@qml.qnode(dev)\n",
    "def trotterize(alpha, beta, time, depth = 1):\n",
    "    # qml.Hadamard(wires=0)\n",
    "    # qml.Hadamard(wires=1)\n",
    "    ZZ = qml.PauliX(0)@qml.PauliX(1)\n",
    "    XX = qml.PauliZ(0)@qml.PauliZ(1)\n",
    "  \n",
    "    obs = [ZZ, XX]\n",
    "    coeffs = [alpha, beta]\n",
    "\n",
    "    H = qml.Hamiltonian(coeffs, obs)\n",
    "    delta_t = time/depth\n",
    "    print(H)\n",
    "    for _ in range(depth):\n",
    "        for coeff, term in zip(H.coeffs, H.ops):\n",
    "\n",
    "            opds = term.operands\n",
    "            t = coeff*delta_t\n",
    "\n",
    "            for i, op in enumerate(opds):\n",
    "                if op.name == 'PauliX':\n",
    "\n",
    "                    qml.Hadamard(wires=i)\n",
    "            # print(-2*t)\n",
    "            for j in range(len(opds) -1):           \n",
    "                qml.CNOT(wires = [j, j+1])\n",
    "                  \n",
    "                qml.RZ(-2*t, wires = 1)\n",
    "            for k in reversed(range(len(opds) -1) ):\n",
    "                qml.CNOT(wires = [k, k+1])\n",
    "            for l, op in enumerate(opds):\n",
    "                if op.name == 'PauliX':\n",
    "\n",
    "                    qml.Hadamard(wires=l)\n",
    "\n",
    "    return qml.probs()\n",
    "\n",
    "qml.draw_mpl(trotterize, style ='pennylane')(0.5,0.8,0.2,1)\n",
    "\n",
    "#   [0.5,0.8,0.2,1]\n"
   ]
  },
  {
   "cell_type": "code",
   "execution_count": 291,
   "id": "2eba4dca",
   "metadata": {},
   "outputs": [
    {
     "name": "stdout",
     "output_type": "stream",
     "text": [
      "0.9 * (X(0) @ X(1)) + 1.0 * (Z(0) @ Z(1))\n"
     ]
    },
    {
     "data": {
      "text/plain": [
       "array([0.87590286, 0.        , 0.        , 0.12409714])"
      ]
     },
     "execution_count": 291,
     "metadata": {},
     "output_type": "execute_result"
    }
   ],
   "source": [
    "\n",
    "trotterize(0.9,1.0,0.4,2)\n"
   ]
  },
  {
   "cell_type": "code",
   "execution_count": 274,
   "id": "97c0e08d",
   "metadata": {},
   "outputs": [
    {
     "name": "stdout",
     "output_type": "stream",
     "text": [
      "Final state: [0.99003329 0.         0.         0.00996671]\n"
     ]
    }
   ],
   "source": [
    "import pennylane as qml\n",
    "from pennylane import numpy as np\n",
    "\n",
    "# Step 1: Define Hamiltonian\n",
    "coeffs = [0.5, 0.8]\n",
    "ops = [qml.PauliZ(0) @ qml.PauliZ(1), qml.PauliX(0) @ qml.PauliX(1)]\n",
    "H = qml.Hamiltonian(coeffs, ops)\n",
    "\n",
    "# Step 2: Set up device\n",
    "dev = qml.device(\"default.qubit\", wires=2)\n",
    "\n",
    "# Step 3: Trotterized time evolution circuit\n",
    "def trotter_step(delta_t):\n",
    "    for coeff, term in zip(H.coeffs, H.ops):\n",
    "        opds = term.operands\n",
    "        for i, op in enumerate(opds):\n",
    "                if op.name == 'PauliX':\n",
    "\n",
    "                    qml.Hadamard(wires=i)\n",
    "        qml.ApproxTimeEvolution(term, delta_t, 1)\n",
    "\n",
    "@qml.qnode(dev)\n",
    "def trotterized_circuit(t, depth):\n",
    "    # Initial state (can be changed)\n",
    "    \n",
    "    delta_t = t / depth\n",
    "\n",
    "    for _ in range(depth):\n",
    "        trotter_step(delta_t)\n",
    "\n",
    "    return qml.probs(wires = [0,1])\n",
    "\n",
    "# Step 4: Run the circuit\n",
    "time = 0.1\n",
    "depth = 8\n",
    "\n",
    "final_state = trotterized_circuit(time, depth)\n",
    "print(\"Final state:\", final_state)\n"
   ]
  },
  {
   "cell_type": "code",
   "execution_count": 275,
   "id": "81d82c53",
   "metadata": {},
   "outputs": [
    {
     "name": "stdout",
     "output_type": "stream",
     "text": [
      "Trotterized result: [0.29815146 0.29815146 0.29815146 0.29815146]\n"
     ]
    }
   ],
   "source": [
    "import pennylane as qml\n",
    "import numpy as np\n",
    "\n",
    "# Define the device\n",
    "dev = qml.device(\"default.qubit\", wires=2)\n",
    "\n",
    "# Parameters for the Hamiltonian\n",
    "alpha = 0.5  # Coefficient for PauliZPauliZ\n",
    "beta = 0.8  # Coefficient for PauliXPauliX\n",
    "\n",
    "# Define the Hamiltonian terms\n",
    "H1 = alpha * (qml.PauliZ(0) @ qml.PauliZ(1))  # PauliZPauliZ (on qubits 0 and 1)\n",
    "H2 = beta * (qml.PauliX(0) @ qml.PauliX(1))   # PauliXPauliX (on qubits 0 and 1)\n",
    "\n",
    "# Define the time step and total evolution time\n",
    "delta_t = 0.2  # Time step for each Trotter slice\n",
    "total_time = 1.0  # Total evolution time\n",
    "n_steps = int(total_time / delta_t)\n",
    "\n",
    "# Define the time evolution operator using matrix exponentiation\n",
    "def time_evolution_operator(H, delta_t):\n",
    "    # Convert the Hamiltonian operator to its matrix form\n",
    "    H_matrix = qml.matrix(H)\n",
    "    \n",
    "    # Apply the matrix exponential to get the unitary operator\n",
    "    U_matrix = np.linalg.matrix_power(np.eye(H_matrix.shape[0]) - 1j * H_matrix * delta_t, 1)  # U = exp(-i H delta_t)\n",
    "    \n",
    "    return U_matrix\n",
    "\n",
    "# Define the circuit\n",
    "@qml.qnode(dev)\n",
    "def trotterized_circuit():\n",
    "    # Apply initial state (both qubits in |+> state)\n",
    "    qml.Hadamard(0)\n",
    "    qml.Hadamard(1)\n",
    "    \n",
    "    # Trotterization loop: apply the evolution for each Hamiltonian term\n",
    "    for _ in range(n_steps):\n",
    "        # Apply evolution for each term of the Hamiltonian\n",
    "        U1 = time_evolution_operator(H1, delta_t)\n",
    "        U2 = time_evolution_operator(H2, delta_t)\n",
    "        \n",
    "        # Apply the unitary evolution for each operator\n",
    "        qml.QubitUnitary(U1, wires=[0, 1])  # Apply to both qubits (0 and 1)\n",
    "        qml.QubitUnitary(U2, wires=[0, 1])  # Apply to both qubits (0 and 1)\n",
    "    \n",
    "    # Return expectation values or any measurement you'd like to track\n",
    "    return qml.probs()\n",
    "\n",
    "# Run the simulation\n",
    "result = trotterized_circuit()\n",
    "print(\"Trotterized result:\", result)\n"
   ]
  },
  {
   "cell_type": "code",
   "execution_count": 278,
   "id": "49db4371",
   "metadata": {},
   "outputs": [
    {
     "name": "stdout",
     "output_type": "stream",
     "text": [
      "|00>: 0.250000\n",
      "|01>: 0.250000\n",
      "|10>: 0.250000\n",
      "|11>: 0.250000\n"
     ]
    }
   ],
   "source": [
    "import pennylane as qml\n",
    "import numpy as np\n",
    "import scipy.linalg\n",
    "\n",
    "# Setup device\n",
    "dev = qml.device(\"default.qubit\", wires=2, shots=None)\n",
    "\n",
    "# Parameters\n",
    "alpha = 0.9\n",
    "beta = 1.0\n",
    "total_time = 0.1\n",
    "depth = 8\n",
    "delta_t = total_time / depth\n",
    "\n",
    "# Define Hamiltonian terms\n",
    "H1 = alpha * (qml.PauliZ(0) @ qml.PauliZ(1))\n",
    "H2 = beta * (qml.PauliX(0) @ qml.PauliX(1))\n",
    "\n",
    "# Time evolution operator using matrix exponential\n",
    "def time_evolution_operator(H, delta_t):\n",
    "    H_matrix = qml.matrix(H)\n",
    "    U_matrix = scipy.linalg.expm(-1j * H_matrix * delta_t)\n",
    "    return U_matrix\n",
    "\n",
    "# Quantum circuit\n",
    "@qml.qnode(dev)\n",
    "def trotterized_circuit():\n",
    "    qml.Hadamard(0)\n",
    "    qml.Hadamard(1)\n",
    "    \n",
    "    for _ in range(depth):\n",
    "        U1 = time_evolution_operator(H1, delta_t)\n",
    "        U2 = time_evolution_operator(H2, delta_t)\n",
    "        qml.QubitUnitary(U1, wires=[0, 1])\n",
    "        qml.QubitUnitary(U2, wires=[0, 1])\n",
    "    \n",
    "    return qml.probs(wires=[0, 1])\n",
    "\n",
    "# Run and print results\n",
    "probs = trotterized_circuit()\n",
    "for i, p in enumerate(probs):\n",
    "    print(f\"|{i:02b}>: {p:.6f}\")\n"
   ]
  }
 ],
 "metadata": {
  "kernelspec": {
   "display_name": "Python 3",
   "language": "python",
   "name": "python3"
  },
  "language_info": {
   "codemirror_mode": {
    "name": "ipython",
    "version": 3
   },
   "file_extension": ".py",
   "mimetype": "text/x-python",
   "name": "python",
   "nbconvert_exporter": "python",
   "pygments_lexer": "ipython3",
   "version": "3.12.5"
  }
 },
 "nbformat": 4,
 "nbformat_minor": 5
}
