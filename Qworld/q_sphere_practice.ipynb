{
 "cells": [
  {
   "cell_type": "code",
   "execution_count": null,
   "metadata": {},
   "outputs": [
    {
     "data": {
      "text/latex": [
       "$$\n",
       "\n",
       "\\begin{bmatrix}\n",
       "- \\frac{1}{2} & \\frac{\\sqrt{3}}{2} & 0 & 0  \\\\\n",
       " \\frac{\\sqrt{3}}{2} & \\frac{1}{2} & 0 & 0  \\\\\n",
       " 0 & 0 & - \\frac{1}{2} & \\frac{\\sqrt{3}}{2}  \\\\\n",
       " 0 & 0 & \\frac{\\sqrt{3}}{2} & \\frac{1}{2}  \\\\\n",
       " \\end{bmatrix}\n",
       "$$"
      ],
      "text/plain": [
       "<IPython.core.display.Latex object>"
      ]
     },
     "execution_count": 24,
     "metadata": {},
     "output_type": "execute_result"
    }
   ],
   "source": [
    "import numpy as np\n",
    "from qiskit import QuantumCircuit, transpile\n",
    "from qiskit.quantum_info import partial_trace, concurrence, DensityMatrix, Statevector, Operator\n",
    "from qiskit.visualization import plot_bloch_multivector, plot_state_qsphere, plot_histogram\n",
    "\n",
    "pi = np.pi\n",
    "\n",
    "qc = QuantumCircuit(2)\n",
    "qc.x(0)\n",
    "qc.ry(pi/3, 0)\n",
    "# qc.cx(0, 1)\n",
    "qc.draw('mpl')\n",
    "\n",
    "# state = Statevector(qc)\n",
    "# state.draw('latex')\n",
    "# state.draw('bloch')\n",
    "# state.draw('qsphere')\n",
    "\n",
    "# dm = DensityMatrix(qc)\n",
    "# dm.draw('latex')\n",
    "\n",
    "unitary = Operator(qc)\n",
    "unitary.draw('latex')\n",
    "\n"
   ]
  },
  {
   "cell_type": "code",
   "execution_count": 27,
   "metadata": {},
   "outputs": [
    {
     "data": {
      "text/latex": [
       "$$\n",
       "\n",
       "\\begin{bmatrix}\n",
       "- \\frac{1}{2} & \\frac{\\sqrt{3}}{2} & 0 & 0  \\\\\n",
       " 0 & 0 & \\frac{\\sqrt{3}}{2} & \\frac{1}{2}  \\\\\n",
       " 0 & 0 & - \\frac{1}{2} & \\frac{\\sqrt{3}}{2}  \\\\\n",
       " \\frac{\\sqrt{3}}{2} & \\frac{1}{2} & 0 & 0  \\\\\n",
       " \\end{bmatrix}\n",
       "$$"
      ],
      "text/plain": [
       "<IPython.core.display.Latex object>"
      ]
     },
     "execution_count": 27,
     "metadata": {},
     "output_type": "execute_result"
    }
   ],
   "source": [
    "qc.cx(0, 1)\n",
    "\n",
    "unitary = Operator(qc)\n",
    "unitary.draw('latex')"
   ]
  }
 ],
 "metadata": {
  "kernelspec": {
   "display_name": "qvenv",
   "language": "python",
   "name": "python3"
  },
  "language_info": {
   "codemirror_mode": {
    "name": "ipython",
    "version": 3
   },
   "file_extension": ".py",
   "mimetype": "text/x-python",
   "name": "python",
   "nbconvert_exporter": "python",
   "pygments_lexer": "ipython3",
   "version": "3.12.5"
  }
 },
 "nbformat": 4,
 "nbformat_minor": 2
}
