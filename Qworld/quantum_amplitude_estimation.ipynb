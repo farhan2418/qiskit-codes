{
 "cells": [
  {
   "cell_type": "code",
   "execution_count": 2,
   "id": "8df33d2c",
   "metadata": {},
   "outputs": [],
   "source": [
    "import numpy as np\n",
    "from qiskit import QuantumCircuit"
   ]
  },
  {
   "cell_type": "code",
   "execution_count": 3,
   "id": "020eb1dc",
   "metadata": {},
   "outputs": [],
   "source": [
    "class BernoulliA(QuantumCircuit):\n",
    "\n",
    "    def __init__(self, probability):\n",
    "        super().__init__(1)\n",
    "\n",
    "        theta_p = 2 * np.arcsin(np.sqrt(probability))\n",
    "        self.ry(theta_p, 0)\n",
    "\n",
    "class BernoulliQ(QuantumCircuit):\n",
    "\n",
    "    def __init__(self, probability):\n",
    "        super().__init__(1)\n",
    "\n",
    "        self._theta_p = 2 * np.arcsin(np.sqrt(probability))\n",
    "        self.ry(2 * self._theta_p, 0)\n",
    "\n",
    "    def power(self, k):\n",
    "        q_k = QuantumCircuit(1)\n",
    "        q_k.ry(2 * k * self._theta_p, 0)\n",
    "        return q_k\n",
    "    \n"
   ]
  },
  {
   "cell_type": "code",
   "execution_count": 4,
   "id": "c9b1913f",
   "metadata": {},
   "outputs": [],
   "source": [
    "p = 0.2\n",
    "\n",
    "A = BernoulliA(p)\n",
    "Q = BernoulliQ(p)"
   ]
  },
  {
   "cell_type": "code",
   "execution_count": 12,
   "id": "f4f22f38",
   "metadata": {},
   "outputs": [
    {
     "name": "stdout",
     "output_type": "stream",
     "text": [
      "{   'circuit_results': {   '000': np.float64(0.0225792),\n",
      "                           '001': np.float64(0.0056448),\n",
      "                           '010': np.float64(0.0250879999999999),\n",
      "                           '011': np.float64(0.0250879999999999),\n",
      "                           '100': np.float64(0.4532710064632002),\n",
      "                           '101': np.float64(0.0075289935367994),\n",
      "                           '110': np.float64(0.0075289935367994),\n",
      "                           '111': np.float64(0.4532710064632001)},\n",
      "    'confidence_interval': (   np.float64(0.19999999481457653),\n",
      "                               np.float64(0.19999999481457653)),\n",
      "    'confidence_interval_processed': (   np.float64(0.19999999481457653),\n",
      "                                         np.float64(0.19999999481457653)),\n",
      "    'estimation': np.float64(0.1464466),\n",
      "    'estimation_processed': np.float64(0.1464466),\n",
      "    'max_probability': np.float64(0.9065420129264004),\n",
      "    'measurements': {   0: np.float64(0.0225792),\n",
      "                        1: np.float64(0.4532710064632002),\n",
      "                        2: np.float64(0.0250879999999999),\n",
      "                        3: np.float64(0.0075289935367994),\n",
      "                        4: np.float64(0.0056448),\n",
      "                        5: np.float64(0.0075289935367994),\n",
      "                        6: np.float64(0.0250879999999999),\n",
      "                        7: np.float64(0.4532710064632001)},\n",
      "    'mle': np.float64(0.19999999481457653),\n",
      "    'mle_processed': np.float64(0.19999999481457653),\n",
      "    'num_evaluation_qubits': 3,\n",
      "    'num_oracle_queries': 7,\n",
      "    'samples': {   np.float64(0.0): np.float64(0.0225792),\n",
      "                   np.float64(0.1464466): np.float64(0.9065420129264004),\n",
      "                   np.float64(0.5): np.float64(0.0501759999999998),\n",
      "                   np.float64(0.8535534): np.float64(0.0150579870735988),\n",
      "                   np.float64(1.0): np.float64(0.0056448)},\n",
      "    'samples_processed': {   np.float64(0.0): np.float64(0.0225792),\n",
      "                             np.float64(0.1464466): np.float64(0.9065420129264004),\n",
      "                             np.float64(0.5): np.float64(0.0501759999999998),\n",
      "                             np.float64(0.8535534): np.float64(0.0150579870735988),\n",
      "                             np.float64(1.0): np.float64(0.0056448)},\n",
      "    'shots': 1}\n"
     ]
    }
   ],
   "source": [
    "from qiskit.primitives import Sampler\n",
    "from qiskit_algorithms import EstimationProblem, AmplitudeEstimation\n",
    "\n",
    "problem = EstimationProblem(state_preparation= A, grover_operator= Q, objective_qubits=[0])\n",
    "sampler = Sampler()\n",
    "\n",
    "ae = AmplitudeEstimation(\n",
    "    num_eval_qubits= 3,\n",
    "    sampler=sampler,\n",
    ")\n",
    "\n",
    "ae_result = ae.estimate(problem)\n",
    "\n",
    "print(ae_result)"
   ]
  }
 ],
 "metadata": {
  "kernelspec": {
   "display_name": "qisvenv",
   "language": "python",
   "name": "python3"
  },
  "language_info": {
   "codemirror_mode": {
    "name": "ipython",
    "version": 3
   },
   "file_extension": ".py",
   "mimetype": "text/x-python",
   "name": "python",
   "nbconvert_exporter": "python",
   "pygments_lexer": "ipython3",
   "version": "3.12.5"
  }
 },
 "nbformat": 4,
 "nbformat_minor": 5
}
