{
 "cells": [
  {
   "cell_type": "code",
   "execution_count": 3,
   "metadata": {},
   "outputs": [
    {
     "name": "stdout",
     "output_type": "stream",
     "text": [
      "[[0.6, (-0.2+0.2j)], [(-0.2-0.2j), 0.4]]\n"
     ]
    }
   ],
   "source": [
    "def quantum_state_tomography(n_hori, n_verti, n_diag, n_left):\n",
    "    n_total = n_hori + n_verti\n",
    "\n",
    "    hori_prob = n_hori / n_total\n",
    "    verti_prob = n_verti / n_total\n",
    "    diag_prob = n_diag / n_total\n",
    "    left_prob = n_left / n_total\n",
    "\n",
    "    \n",
    "    s_x = 2*diag_prob - 1\n",
    "    s_y = 2*left_prob - 1\n",
    "    s_z = 2*hori_prob - 1\n",
    "    s_0 = hori_prob + verti_prob\n",
    "\n",
    "    density_matrix =  [\n",
    "        [s_0 + s_z, s_x - 1j*s_y], \n",
    "        [s_x + 1j*s_y , s_0 - s_z]\n",
    "        ]\n",
    "\n",
    "    quantum_state = [[1/2 * el for el in row] for row in density_matrix]\n",
    "\n",
    "    return quantum_state\n",
    "\n",
    "unknown_state = quantum_state_tomography(600, 400 , 300, 300)\n",
    "print(unknown_state)"
   ]
  }
 ],
 "metadata": {
  "kernelspec": {
   "display_name": "qvenv",
   "language": "python",
   "name": "python3"
  },
  "language_info": {
   "codemirror_mode": {
    "name": "ipython",
    "version": 3
   },
   "file_extension": ".py",
   "mimetype": "text/x-python",
   "name": "python",
   "nbconvert_exporter": "python",
   "pygments_lexer": "ipython3",
   "version": "3.12.5"
  }
 },
 "nbformat": 4,
 "nbformat_minor": 2
}
