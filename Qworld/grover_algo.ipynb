{
 "cells": [
  {
   "cell_type": "markdown",
   "metadata": {},
   "source": [
    "## Implementing Grover's Algorithm \n",
    "\n",
    "Grover algorithm uses the Grover operator $Q$ to amplify the amplitudes of the good states:\n",
    "    $$Q= AS_0A^{\\dagger}S_f$$\n",
    "\n",
    "$A$ is the initial search state for the algorithm, which is just Hadamards, $H^{\\otimes n}$\n",
    "\n",
    "$S_0$  is the reflection about the all 0 state\n",
    "$$ \\ket{x} \\rightarrow { -\\ket{x} when\\, x \\neq 0 ;  \\ket{x} when\\,  x = 0}  $$\n",
    "\n",
    " \n",
    "$S_f$ is the oracle that applies, $$ \\ket{x} \\rightarrow (-1)^{f(x)} \\ket{x} $$\n",
    "    where $f(x)$ is 1 if is a good state and otherwise 0\n",
    "\n",
    "\n",
    "    "
   ]
  },
  {
   "cell_type": "code",
   "execution_count": 33,
   "metadata": {},
   "outputs": [],
   "source": [
    "import matplotlib.pyplot as plt\n",
    "import numpy as np\n",
    "import math\n",
    "\n",
    "from qiskit import QuantumCircuit, transpile\n",
    "from qiskit_aer import Aer\n",
    "from qiskit.visualization import plot_bloch_vector, plot_histogram, plot_bloch_multivector\n",
    "from qiskit.quantum_info import Statevector\n",
    "from qiskit.circuit.library import UnitaryGate\n"
   ]
  },
  {
   "cell_type": "code",
   "execution_count": 9,
   "metadata": {},
   "outputs": [],
   "source": [
    "# import matplotlib.pyplot as plt\n",
    "# import numpy as np\n",
    "\n",
    "# from qiskit import QuantumCircuit\n",
    "# from qiskit_aer import Aer\n",
    "# from qiskit.visualization import plot_bloch_vector, plot_histogram, plot_bloch_multivector\n",
    "# from qiskit.quantum_info import Statevector\n",
    "\n",
    "# q = 2\n",
    "# n = q +1\n",
    "# good_state  = '10'\n",
    "# grover_circuit2 = QuantumCircuit(n, q)\n",
    "# # U = np.array([[1, 0, 0, 0, 0, 0, 0, 0], [0, -1, 0, 0, 0, 0, 0, 0], [0, 0, -1, 0, 0, 0, 0, 0], [0, 0, 0, -1, 0, 0, 0, 0],\n",
    "# #                 [0, 0, 0, 0, -1, 0, 0, 0], [0, 0, 0, 0, 0, -1, 0, 0], [0, 0, 0, 0, 0, 0, -1, 0],  [0, 0, 0, 0, 0, 0, 0, -1] ])\n",
    "# # r_gate = UnitaryGate(U, label='R-gate')\n",
    "\n",
    "# # grover_circuit2.x(n-2)\n",
    "# grover_circuit2.x(n-1)\n",
    "# grover_circuit2.barrier()\n",
    "# s_operator = lambda qc, n: qc.h(range(n))\n",
    "# # grover_circuit.h(range(n))\n",
    "# s_operator(grover_circuit2, n)\n",
    "# grover_circuit2.barrier()\n",
    "# def grover_operator(qc: QuantumCircuit, n, good_state):\n",
    "#     to_all = range(n-1)\n",
    "#     # for now our good state is always '11' \n",
    "#     # if is_good_state == good_state:\n",
    "#     #     qc.mcz(0,1) # oracle for the good state '11'\n",
    "#     indices = [i for i, c in enumerate(good_state) if c == '0']\n",
    "#     print(indices)\n",
    "#     if indices : qc.x(indices)\n",
    "#     qc.mcx([0, 1], n-1)\n",
    "#     if indices: qc.x(indices)\n",
    "\n",
    "#     # qc.cz(indices[0], indices[1])\n",
    "#     qc.barrier()\n",
    "#     qc.h(to_all) # diffusion operator\n",
    "\n",
    "#     qc.z([0,1])\n",
    "#     qc.cz(0,1)\n",
    "    \n",
    "#     qc.h(to_all)\n",
    "    \n",
    "#     # qc.cz(0,1)\n",
    "#     # qc.cz(1, 2)\n",
    "#     # qc.cz(0,2)\n",
    "#     # qc.h(to_all)\n",
    "#     # qc.barrier()\n",
    "#     return qc\n",
    "\n",
    "# grover_circuit2 = grover_operator(grover_circuit2, n, good_state=good_state)\n",
    "# # grover_circuit = grover_operator(grover_circuit, n, good_state=good_state)\n",
    "# # grover_circuit = grover_operator(grover_circuit, n, good_state=good_state)\n",
    "\n",
    "\n",
    "\n",
    "# state = Statevector(grover_circuit2)\n",
    "\n",
    "\n",
    "# state.draw('latex')\n",
    "\n",
    "\n"
   ]
  },
  {
   "cell_type": "code",
   "execution_count": 56,
   "metadata": {},
   "outputs": [
    {
     "name": "stdout",
     "output_type": "stream",
     "text": [
      "1\n"
     ]
    },
    {
     "data": {
      "text/latex": [
       "$$- \\frac{\\sqrt{2}}{4} |00001\\rangle- \\frac{\\sqrt{2}}{4} |00010\\rangle- \\frac{\\sqrt{2}}{4} |00101\\rangle- \\frac{\\sqrt{2}}{4} |00110\\rangle+\\frac{\\sqrt{2}}{4} |10001\\rangle+\\frac{\\sqrt{2}}{4} |10010\\rangle+\\frac{\\sqrt{2}}{4} |10101\\rangle+\\frac{\\sqrt{2}}{4} |10110\\rangle$$"
      ],
      "text/plain": [
       "<IPython.core.display.Latex object>"
      ]
     },
     "execution_count": 56,
     "metadata": {},
     "output_type": "execute_result"
    }
   ],
   "source": [
    "\n",
    "n =  4\n",
    "t = n+1\n",
    "good_state  = ['0100', '0110', '1000', '1010']\n",
    "# good_state = ['1111']\n",
    "grover_circuit = QuantumCircuit(t, n)\n",
    "\n",
    "grover_circuit.x(n)\n",
    "\n",
    "s_operator = lambda qc, t: qc.h(range(t))\n",
    "\n",
    "s_operator(grover_circuit, t)\n",
    "\n",
    "def oracle_function(n, good_state):\n",
    "    lock = False\n",
    "    qc = QuantumCircuit(n)\n",
    "    for sol in good_state:\n",
    "        indices = [i for i, c in enumerate(sol) if c == '0']\n",
    "        \n",
    "        if indices : \n",
    "            qc.x(indices)\n",
    "            lock = True\n",
    "        qc.mcx(list(range(n-1)), n-1)\n",
    "        if lock:   qc.x(indices)\n",
    "\n",
    "    return qc\n",
    "\n",
    "def diffusion_operator(n):\n",
    "    qc = QuantumCircuit(n)\n",
    "    qc.h(range(n)) # diffusion operator\n",
    "\n",
    "    qc.x(range(n))\n",
    "\n",
    "    qc.mcp(np.pi, list(range(n-1)), n-1)\n",
    "    qc.x(range(n))\n",
    "\n",
    "    qc.h(range(n))\n",
    "    return qc\n",
    "\n",
    "def grover_operator(t,  n, good_state):\n",
    "    qc = QuantumCircuit(t)\n",
    "    oracle_fun = oracle_function(t, good_state)\n",
    "    qc.append(oracle_fun, range(t))\n",
    "\n",
    "    qc.append(diffusion_operator(n), range(n))\n",
    "\n",
    "   \n",
    "    \n",
    "    return qc\n",
    "\n",
    "def get_kopt(n, m):\n",
    "    opt = math.floor(np.pi/4 * (np.sqrt(n/m)) - 0.5)\n",
    "    print(opt)\n",
    "    return opt\n",
    "\n",
    "for _ in range(get_kopt(2**n, len(good_state))):\n",
    "    grover_circuit.append(grover_operator(t, n, good_state=good_state), range(t))\n",
    "\n",
    "# grover_circuit3 = grover_operator(grover_circuit3, n, good_state=good_state)\n",
    "\n",
    "\n",
    "state = Statevector(grover_circuit)\n",
    "\n",
    "\n",
    "state.draw('latex')\n",
    "\n",
    "\n"
   ]
  },
  {
   "cell_type": "code",
   "execution_count": 57,
   "metadata": {},
   "outputs": [
    {
     "data": {
      "image/png": "[encoded data removed]",
      "text/plain": [
       "<Figure size 872.774x535.111 with 1 Axes>"
      ]
     },
     "execution_count": 57,
     "metadata": {},
     "output_type": "execute_result"
    }
   ],
   "source": [
    "grover_circuit.measure(range(n), range(n))\n",
    "grover_circuit.draw('mpl')"
   ]
  },
  {
   "cell_type": "code",
   "execution_count": null,
   "metadata": {},
   "outputs": [],
   "source": []
  },
  {
   "cell_type": "code",
   "execution_count": 58,
   "metadata": {},
   "outputs": [
    {
     "data": {
      "image/png": "[encoded data removed]",
      "text/plain": [
       "<Figure size 640x480 with 1 Axes>"
      ]
     },
     "execution_count": 58,
     "metadata": {},
     "output_type": "execute_result"
    }
   ],
   "source": [
    "sim = Aer.get_backend('aer_simulator')\n",
    "trasnpiled_qc = transpile(grover_circuit, sim)\n",
    "\n",
    "result = sim.run(trasnpiled_qc).result()\n",
    "counts = result.get_counts()\n",
    "plot_histogram(counts)\n",
    "\n"
   ]
  },
  {
   "cell_type": "code",
   "execution_count": null,
   "metadata": {},
   "outputs": [],
   "source": []
  }
 ],
 "metadata": {
  "kernelspec": {
   "display_name": "qvenv",
   "language": "python",
   "name": "python3"
  },
  "language_info": {
   "codemirror_mode": {
    "name": "ipython",
    "version": 3
   },
   "file_extension": ".py",
   "mimetype": "text/x-python",
   "name": "python",
   "nbconvert_exporter": "python",
   "pygments_lexer": "ipython3",
   "version": "3.12.5"
  }
 },
 "nbformat": 4,
 "nbformat_minor": 2
}
