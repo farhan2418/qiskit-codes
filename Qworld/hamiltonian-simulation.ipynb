{
 "cells": [
  {
   "cell_type": "code",
   "execution_count": 19,
   "id": "6e2a61ca",
   "metadata": {},
   "outputs": [],
   "source": [
    "\n",
    "import numpy as np\n",
    "from qiskit import *\n",
    "from qiskit.quantum_info import *\n",
    "from qiskit.circuit.library import *\n",
    "from qiskit_aer import Aer\n"
   ]
  },
  {
   "cell_type": "markdown",
   "id": "549865bb",
   "metadata": {},
   "source": [
    "## Hamiltonian Simulation"
   ]
  },
  {
   "cell_type": "markdown",
   "id": "54f21f34",
   "metadata": {},
   "source": [
    "* simulating the $e^{iPt}$, where P are pauli terms\n",
    "* in this case we are constructing the circuit for $e^{i \\sigma_z \\otimes \\sigma_z t}$"
   ]
  },
  {
   "cell_type": "code",
   "execution_count": null,
   "id": "4ad0d815",
   "metadata": {},
   "outputs": [
    {
     "data": {
      "image/png": "[encoded data removed]",
      "text/plain": [
       "<Figure size 370.906x200.667 with 1 Axes>"
      ]
     },
     "execution_count": 20,
     "metadata": {},
     "output_type": "execute_result"
    }
   ],
   "source": [
    "qc = QuantumCircuit(2)\n",
    "# qc.x(0)\n",
    "t =0.0232\n",
    "qc.cx(0,1)\n",
    "qc.rz(-2*t, 1)\n",
    "qc.cx(0,1)\n",
    "qc.draw('mpl')"
   ]
  },
  {
   "cell_type": "code",
   "execution_count": 21,
   "id": "381438b3",
   "metadata": {},
   "outputs": [
    {
     "data": {
      "text/latex": [
       "$$(0.9997308921 + 0.0231979189 i) |00\\rangle$$"
      ],
      "text/plain": [
       "<IPython.core.display.Latex object>"
      ]
     },
     "execution_count": 21,
     "metadata": {},
     "output_type": "execute_result"
    }
   ],
   "source": [
    "state = Statevector(qc)\n",
    "state.draw('latex')"
   ]
  },
  {
   "cell_type": "markdown",
   "id": "9e395ecb",
   "metadata": {},
   "source": [
    "* now let's see the case for $e^{i \\sigma_z \\otimes \\sigma_x \\otimes \\sigma_z t}$"
   ]
  },
  {
   "cell_type": "code",
   "execution_count": 22,
   "id": "1cc94090",
   "metadata": {},
   "outputs": [
    {
     "data": {
      "image/png": "[encoded data removed]",
      "text/plain": [
       "<Figure size 705.552x284.278 with 1 Axes>"
      ]
     },
     "execution_count": 22,
     "metadata": {},
     "output_type": "execute_result"
    }
   ],
   "source": [
    "qc = QuantumCircuit(3)\n",
    "# qc.x(0)\n",
    "\n",
    "#apply H(Hadamard) for the nth qubit for \\sigma_x^(n)\n",
    "t = 1\n",
    "qc.h(1)\n",
    "qc.cx(0,1)\n",
    "qc.cx(1,2)\n",
    "qc.rz(-2*t, 2)\n",
    "qc.cx(1,2)\n",
    "qc.cx(0,1)\n",
    "qc.h(1)\n",
    "qc.draw('mpl')\n"
   ]
  },
  {
   "cell_type": "code",
   "execution_count": 23,
   "id": "33c6e1a4",
   "metadata": {},
   "outputs": [
    {
     "data": {
      "text/latex": [
       "$$0.5403023059 |000\\rangle+0.8414709848 i |010\\rangle$$"
      ],
      "text/plain": [
       "<IPython.core.display.Latex object>"
      ]
     },
     "execution_count": 23,
     "metadata": {},
     "output_type": "execute_result"
    }
   ],
   "source": [
    "\n",
    "state = Statevector(qc)\n",
    "state.draw('latex')"
   ]
  },
  {
   "cell_type": "code",
   "execution_count": 24,
   "id": "55c83572",
   "metadata": {},
   "outputs": [
    {
     "data": {
      "image/png": "[encoded data removed]",
      "text/plain": [
       "<Figure size 872.774x284.278 with 1 Axes>"
      ]
     },
     "execution_count": 24,
     "metadata": {},
     "output_type": "execute_result"
    }
   ],
   "source": [
    "qc = QuantumCircuit(3)\n",
    "\n",
    "# The unitary for H_y\n",
    "U = (1 / np.sqrt(2)) * np.array([\n",
    "    [1, -1j],\n",
    "    [1j, -1]\n",
    "])\n",
    "\n",
    "H_y = UnitaryGate(U, label=\"Hy\")\n",
    "qc.u(np.pi/2, np.pi/2, np.pi/2, 0)\n",
    "# qc.append(H_y, [0])\n",
    "qc.cx(1,0)\n",
    "qc.cx(1,2)\n",
    "qc.z(2)\n",
    "qc.cx(1,2)\n",
    "qc.cx(0,1)\n",
    "# qc.append(H_y, [0])\n",
    "qc.u(np.pi/2, np.pi/2, np.pi/2, 0)\n",
    "\n",
    "qc.draw('mpl')\n",
    "# state = Statevector(qc)\n",
    "# state.draw('')\n",
    "\n",
    "\n",
    "\n",
    "\n"
   ]
  },
  {
   "cell_type": "markdown",
   "id": "95b81a53",
   "metadata": {},
   "source": [
    "### Complete code for Hamiltonian solution knowing two things\\\n",
    "- Any hermitian(hamiltonian) can be expressed with the help of pauli terms\n",
    "- and any pauli terms on the exponential (of the form solved above) we have solution(circuit) "
   ]
  },
  {
   "cell_type": "code",
   "execution_count": 25,
   "id": "0366d377",
   "metadata": {},
   "outputs": [],
   "source": [
    "def exp_pauli_z(qc, qreg, p_ind, cont_qb = None, t=1):\n",
    "\n",
    "    # this is the case for Ce^iIt\n",
    "    if len(p_ind) == 0 and cont_qb is not None:\n",
    "        qc.add_register(cont_qb.register)\n",
    "        qc.rz(t, cont_qb)\n",
    "    \n",
    "    for i in range(len(p_ind) -1):\n",
    "        qc.cx(qreg[p_ind[i]],\n",
    "               qreg[p_ind[i+1]])\n",
    "\n",
    "    if cont_qb is None:\n",
    "        qc.rz(-2*t, qreg[p_ind[-1]])\n",
    "    else:\n",
    "        qc.add_register(cont_qb.register)\n",
    "        qc.rz(-2*t, cont_qb)\n",
    "    \n",
    "    for i in reversed(range(len(p_ind) -1)):\n",
    "        qc.cx(qreg[p_ind[i]],\n",
    "              qreg[p_ind[i+1]])\n",
    "        \n",
    "    "
   ]
  },
  {
   "cell_type": "code",
   "execution_count": 26,
   "id": "9db44a5a",
   "metadata": {},
   "outputs": [],
   "source": [
    "def exp_pauli(pauli, qreg, cont_qub = None, t=1):\n",
    "\n",
    "    pauli_circuit = QuantumCircuit(qreg)\n",
    "    circuit_bracket = QuantumCircuit(qreg)\n",
    "    pauli_indices = []\n",
    "\n",
    "    for i in range(len(qreg)):\n",
    "        if pauli[i] == 'I':\n",
    "            continue\n",
    "        elif pauli[i] == 'Z':\n",
    "            pauli_indices.append(i)\n",
    "        elif pauli[i] == 'X':\n",
    "            circuit_bracket.h(qreg[i])\n",
    "            pauli_indices.append(i)\n",
    "        elif pauli[i] == 'Y':\n",
    "            circuit_bracket.u(np.pi/2, np.pi/2, np.pi/2, i)\n",
    "            pauli_indices.append(i)\n",
    "    \n",
    "\n",
    "    pauli_circuit.compose(circuit_bracket, inplace=True)\n",
    "    exp_pauli_z(pauli_circuit, qreg, pauli_indices, cont_qub, t)\n",
    "    pauli_circuit.compose(circuit_bracket, inplace=True)\n",
    "\n",
    "    return pauli_circuit          \n"
   ]
  },
  {
   "cell_type": "code",
   "execution_count": 27,
   "id": "3c5fb83a",
   "metadata": {},
   "outputs": [],
   "source": [
    "def hamiltonian_simulation(hamiltonian, qreg = None, cont_qub = None, t=1, trotter_number = 1):\n",
    "\n",
    "    # hamitonian in in terms of pauli operators with their corresponding weights will be of the form:\n",
    "        # hamiltonian = {'XYZ': 5, 'IXZ': 7 ..} \n",
    "    if qreg is None:\n",
    "        qreg = QuantumRegister(len(list(hamiltonian.keys())[0]))\n",
    "    \n",
    "    # as of now we always take trotter number as 1\n",
    "    # if you consider further trotterization then you have to run the hamiltonian simulation the follwing times\n",
    "\n",
    "    delta_t = t/ trotter_number\n",
    "\n",
    "    exp_delta_t = QuantumCircuit(qreg)\n",
    "    exp_hamiltonian = QuantumCircuit(qreg)\n",
    "    for pauli in hamiltonian:\n",
    "        weight = hamiltonian[pauli]\n",
    "        exp_delta_t = exp_delta_t.compose(exp_pauli(pauli, qreg, cont_qub, weight * delta_t) )\n",
    "\n",
    "    for _ in range(trotter_number):\n",
    "        exp_hamiltonian = exp_hamiltonian.compose(exp_delta_t)\n",
    "\n",
    "    return exp_hamiltonian\n"
   ]
  },
  {
   "cell_type": "code",
   "execution_count": 50,
   "id": "cbede4c9",
   "metadata": {},
   "outputs": [
    {
     "data": {
      "image/png": "[encoded data removed]",
      "text/plain": [
       "<Figure size 788.961x200.667 with 1 Axes>"
      ]
     },
     "execution_count": 50,
     "metadata": {},
     "output_type": "execute_result"
    }
   ],
   "source": [
    "# put the Hamiltonian in the dictionary\n",
    "hamiltonian = {\"ZZ\": 0.5, \"XX\": 0.8}\n",
    "\n",
    "quantum_register = QuantumRegister(2, 'q')\n",
    "circuit = hamiltonian_simulation(hamiltonian, \n",
    "                                 quantum_register, t=0.2, trotter_number=1)\n",
    "\n",
    "# draw the circuit \n",
    "circuit.draw(output=\"mpl\")\n",
    "# circuit.measure_all()"
   ]
  },
  {
   "cell_type": "code",
   "execution_count": 49,
   "id": "5682c7ac",
   "metadata": {},
   "outputs": [
    {
     "name": "stdout",
     "output_type": "stream",
     "text": [
      "0.9775390625\n",
      "0.0224609375\n"
     ]
    }
   ],
   "source": [
    "\n",
    "sim = Aer.get_backend('aer_simulator')\n",
    "result = sim.run(circuit).result()\n",
    "#by default 1024 qubits are measured\n",
    "counts = result.get_counts()\n",
    "print(counts['00']/1024)\n",
    "print(counts['11']/1024)\n",
    "# print(29/1024)"
   ]
  }
 ],
 "metadata": {
  "kernelspec": {
   "display_name": "qisvenv",
   "language": "python",
   "name": "python3"
  },
  "language_info": {
   "codemirror_mode": {
    "name": "ipython",
    "version": 3
   },
   "file_extension": ".py",
   "mimetype": "text/x-python",
   "name": "python",
   "nbconvert_exporter": "python",
   "pygments_lexer": "ipython3",
   "version": "3.12.5"
  }
 },
 "nbformat": 4,
 "nbformat_minor": 5
}
