{
 "cells": [
  {
   "cell_type": "code",
   "execution_count": 2,
   "id": "0fee178e",
   "metadata": {},
   "outputs": [],
   "source": [
    "import numpy as np\n",
    "from random import random\n",
    "from scipy.optimize import minimize\n",
    "\n",
    "from qiskit import *\n",
    "from qiskit.circuit.library import U2Gate\n",
    "from qiskit.quantum_info import Pauli, SparsePauliOp, Operator\n",
    "from qiskit.visualization import plot_bloch_multivector, plot_histogram\n",
    "from qiskit_aer import Aer\n",
    "from qiskit_algorithms import NumPyEigensolver\n",
    "\n"
   ]
  },
  {
   "cell_type": "code",
   "execution_count": 3,
   "id": "595e53a4",
   "metadata": {},
   "outputs": [
    {
     "name": "stdout",
     "output_type": "stream",
     "text": [
      "SparsePauliOp(['I', 'Z', 'X', 'Y'],\n",
      "              coeffs=[5.69669392+0.j, 0.66144616+0.j, 5.87595241+0.j, 7.23195887+0.j])\n"
     ]
    }
   ],
   "source": [
    "\n",
    "def hamiltonian_operator(a, b, c, d):\n",
    "\n",
    "    return SparsePauliOp.from_list([(\"I\", a), (\"Z\", b) , (\"X\", c), (\"Y\", d)])\n",
    "\n",
    "scale = 10\n",
    "a, b, c, d = (scale*random(), scale*random(), scale*random(), scale*random() )\n",
    "H = hamiltonian_operator(a, b,c, d)\n",
    "\n",
    "print(H)\n",
    "   "
   ]
  },
  {
   "cell_type": "code",
   "execution_count": 4,
   "id": "6586ccdb",
   "metadata": {},
   "outputs": [
    {
     "name": "stdout",
     "output_type": "stream",
     "text": [
      "-3.644909627835048\n"
     ]
    }
   ],
   "source": [
    "# This is for the comparison with the classical algorithm\n",
    "solver = NumPyEigensolver()\n",
    "result = solver.compute_eigenvalues(Operator(H))\n",
    "reference_energy = min(np.real(result.eigenvalues))\n",
    "print(reference_energy)"
   ]
  },
  {
   "cell_type": "code",
   "execution_count": 5,
   "id": "21183aa8",
   "metadata": {},
   "outputs": [],
   "source": [
    "# this fucntion gives us all possible ansatz states\n",
    "\n",
    "def ansatz_state_prep(circuit:QuantumCircuit, parameters):\n",
    "    q = circuit.qregs[0]\n",
    "    circuit.rx(parameters[0], q[0])\n",
    "    circuit.ry(parameters[1], q[0])\n",
    "\n",
    "    return circuit"
   ]
  },
  {
   "cell_type": "code",
   "execution_count": 6,
   "id": "f465cb7e",
   "metadata": {},
   "outputs": [],
   "source": [
    "# since we need to perform measurements in Z, X, Y with Zbasis already being available \n",
    "# we then define the following gates for measurements in X and Y basis\n",
    "\n",
    "# measurement in X basis\n",
    "\n",
    "def x_measurement(qc, qbit, cbit):\n",
    "    qc.h(qbit)\n",
    "    qc.measure(qbit, cbit)\n",
    "    return None\n",
    "\n",
    "# measurement in Y basis\n",
    "\n",
    "def y_measurement(qc, qbit, cbit):\n",
    "    minus_pi = -np.pi\n",
    "    qc.p(minus_pi/2, qbit)\n",
    "    qc.h(qbit)\n",
    "    qc.p(minus_pi/2, qbit)\n",
    "    qc.measure(qbit, cbit)\n",
    "    return None\n"
   ]
  },
  {
   "cell_type": "code",
   "execution_count": 7,
   "id": "35453e1e",
   "metadata": {},
   "outputs": [],
   "source": [
    "# Vqe circuit\n",
    "\n",
    "def vqe_circuit(parameters, measure: str):\n",
    "    circuit = QuantumCircuit(1,1)\n",
    "    circuit = ansatz_state_prep(circuit, parameters)\n",
    "    if measure == 'Z':\n",
    "        circuit.measure(0, 0)\n",
    "    elif measure == 'X':\n",
    "        x_measurement(circuit, 0, 0)\n",
    "    elif measure == 'Y':\n",
    "        y_measurement(circuit, 0, 0)\n",
    "    else:\n",
    "        raise ValueError('Not valid input for measurement: input should be \"X\" or \"Y\" or \"Z\"')\n",
    "    return circuit"
   ]
  },
  {
   "cell_type": "code",
   "execution_count": 8,
   "id": "90296b30",
   "metadata": {},
   "outputs": [],
   "source": [
    "# finding the expectation values of a Pauli operator\n",
    "\n",
    "def quantum_module(parameters, measure):\n",
    "    if measure == 'I':\n",
    "        return 1\n",
    "    else:\n",
    "        circuit = vqe_circuit(parameters, measure)\n",
    "    \n",
    "    shots = 8192 # 2**13\n",
    "    sim = Aer.get_backend('aer_simulator')\n",
    "    result = sim.run(circuit, shots = shots).result()\n",
    "\n",
    "    counts = result.get_counts()\n",
    "    # plot_histogram(counts)\n",
    "\n",
    "    expectation_value = 0\n",
    "    for measure_result in counts.keys():\n",
    "        sign = +1\n",
    "        if measure_result == '1':\n",
    "            sign = -1\n",
    "        expectation_value += sign*counts[measure_result] /shots\n",
    "    return expectation_value"
   ]
  },
  {
   "cell_type": "code",
   "execution_count": 9,
   "id": "f4b15bdb",
   "metadata": {},
   "outputs": [],
   "source": [
    "def vqe(parameters):\n",
    "    modules = []\n",
    "    classical_adder = 0 \n",
    "    for x in H:\n",
    "        modules.append(np.real(x.coeffs[0]) * quantum_module(parameters, str(x.paulis[0])))\n",
    "\n",
    "    for mod in modules:\n",
    "        classical_adder += mod\n",
    "    return classical_adder"
   ]
  },
  {
   "cell_type": "code",
   "execution_count": 10,
   "id": "980692b6",
   "metadata": {},
   "outputs": [
    {
     "name": "stdout",
     "output_type": "stream",
     "text": [
      "The exact ground state energy is: -3.644909627835048\n",
      "The estimated ground state energy from VQE algorithm is: -3.5480107356592465\n"
     ]
    }
   ],
   "source": [
    "parameters_array = np.array([np.pi, np.pi])\n",
    "tol = 1e-3\n",
    "\n",
    "vqe_result = minimize(vqe, parameters_array, method='Powell', tol = tol)\n",
    "print(f'The exact ground state energy is: {reference_energy}')\n",
    "print('The estimated ground state energy from VQE algorithm is: {}'.format(vqe_result.fun))"
   ]
  }
 ],
 "metadata": {
  "kernelspec": {
   "display_name": "qisvenv",
   "language": "python",
   "name": "python3"
  },
  "language_info": {
   "codemirror_mode": {
    "name": "ipython",
    "version": 3
   },
   "file_extension": ".py",
   "mimetype": "text/x-python",
   "name": "python",
   "nbconvert_exporter": "python",
   "pygments_lexer": "ipython3",
   "version": "3.12.5"
  }
 },
 "nbformat": 4,
 "nbformat_minor": 5
}
